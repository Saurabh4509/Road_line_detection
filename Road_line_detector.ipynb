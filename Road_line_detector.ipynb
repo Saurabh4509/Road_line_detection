{
 "cells": [
  {
   "cell_type": "code",
   "execution_count": 4,
   "id": "22833eb5",
   "metadata": {},
   "outputs": [],
   "source": [
    "import cv2\n",
    "import numpy as np\n",
    "\n",
    "\n",
    "image = cv2.imread('road.jpg')\n",
    "\n",
    "\n",
    "gray_image = cv2.cvtColor(image, cv2.COLOR_BGR2GRAY)\n",
    "\n",
    "blurred_image = cv2.GaussianBlur(gray_image, (5, 5), 0)\n",
    "\n",
    "# Apply Canny edge detection\n",
    "edges = cv2.Canny(blurred_image, 50, 150)\n",
    "\n",
    "# Define region of interest (ROI)\n",
    "height, width = edges.shape[:2]\n",
    "roi_vertices = [\n",
    "    (0, height),\n",
    "    (width / 2, height / 2),\n",
    "    (width, height)\n",
    "]\n",
    "mask = np.zeros_like(edges)\n",
    "cv2.fillPoly(mask, np.array([roi_vertices], dtype=np.int32), 255)\n",
    "masked_edges = cv2.bitwise_and(edges, mask)\n",
    "\n",
    "# Apply Hough line transformation\n",
    "lines = cv2.HoughLinesP(\n",
    "    masked_edges,\n",
    "    rho=1,\n",
    "    theta=np.pi / 180,\n",
    "    threshold=50,\n",
    "    minLineLength=100,\n",
    "    maxLineGap=50\n",
    ")\n",
    "\n",
    "\n",
    "line_image = np.zeros_like(image)\n",
    "if lines is not None:\n",
    "    for line in lines:\n",
    "        x1, y1, x2, y2 = line[0]\n",
    "        cv2.line(line_image, (x1, y1), (x2, y2), (0, 0, 255), 5)\n",
    "\n",
    "\n",
    "result = cv2.addWeighted(image, 0.8, line_image, 1, 0)\n",
    "\n",
    "\n",
    "cv2.imshow('Road Line Detection', result)\n",
    "cv2.waitKey(0)\n",
    "cv2.destroyAllWindows()\n",
    "\n",
    "\n",
    "\n"
   ]
  }
 ],
 "metadata": {
  "kernelspec": {
   "display_name": "Python 3 (ipykernel)",
   "language": "python",
   "name": "python3"
  },
  "language_info": {
   "codemirror_mode": {
    "name": "ipython",
    "version": 3
   },
   "file_extension": ".py",
   "mimetype": "text/x-python",
   "name": "python",
   "nbconvert_exporter": "python",
   "pygments_lexer": "ipython3",
   "version": "3.7.2"
  }
 },
 "nbformat": 4,
 "nbformat_minor": 5
}
